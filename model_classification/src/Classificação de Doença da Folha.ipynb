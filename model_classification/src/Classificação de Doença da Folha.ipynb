{
 "cells": [
  {
   "cell_type": "markdown",
   "id": "58c3ebc9-d966-497b-884c-e9900c26a57a",
   "metadata": {},
   "source": [
    "## Importando e Carregando"
   ]
  },
  {
   "cell_type": "code",
   "execution_count": 2,
   "id": "fd6a251b-5357-499a-92ad-42943235cf35",
   "metadata": {},
   "outputs": [
    {
     "name": "stderr",
     "output_type": "stream",
     "text": [
      "2024-07-18 19:34:21.254407: E external/local_xla/xla/stream_executor/cuda/cuda_fft.cc:485] Unable to register cuFFT factory: Attempting to register factory for plugin cuFFT when one has already been registered\n",
      "2024-07-18 19:34:21.270346: E external/local_xla/xla/stream_executor/cuda/cuda_dnn.cc:8454] Unable to register cuDNN factory: Attempting to register factory for plugin cuDNN when one has already been registered\n",
      "2024-07-18 19:34:21.275107: E external/local_xla/xla/stream_executor/cuda/cuda_blas.cc:1452] Unable to register cuBLAS factory: Attempting to register factory for plugin cuBLAS when one has already been registered\n",
      "2024-07-18 19:34:21.286771: I tensorflow/core/platform/cpu_feature_guard.cc:210] This TensorFlow binary is optimized to use available CPU instructions in performance-critical operations.\n",
      "To enable the following instructions: AVX2 FMA, in other operations, rebuild TensorFlow with the appropriate compiler flags.\n",
      "2024-07-18 19:34:22.038826: W tensorflow/compiler/tf2tensorrt/utils/py_utils.cc:38] TF-TRT Warning: Could not find TensorRT\n",
      "/home/renan/anaconda3/envs/vit/lib/python3.11/site-packages/tqdm/auto.py:21: TqdmWarning: IProgress not found. Please update jupyter and ipywidgets. See https://ipywidgets.readthedocs.io/en/stable/user_install.html\n",
      "  from .autonotebook import tqdm as notebook_tqdm\n"
     ]
    }
   ],
   "source": [
    "import tensorflow as tf\n",
    "import zipfile\n",
    "import os\n",
    "import numpy as np\n",
    "from PIL import Image\n",
    "import random\n",
    "from IPython.display import display\n",
    "from datasets import Dataset, DatasetDict\n",
    "from transformers.keras_callbacks import KerasMetricCallback\n",
    "from transformers import (AutoImageProcessor, \n",
    "                          AutoModelForImageClassification, \n",
    "                          DefaultDataCollator, \n",
    "                          create_optimizer,\n",
    "                          TFAutoModelForImageClassification,\n",
    "                          ViTImageProcessor,\n",
    "                          TFViTForImageClassification,\n",
    "                          pipeline)\n",
    "#from transformers import TFTrainingArguments, TFTrainer\n",
    "import evaluate"
   ]
  },
  {
   "cell_type": "code",
   "execution_count": 56,
   "id": "6375771f-5f39-4d46-96c3-ed468ee59130",
   "metadata": {},
   "outputs": [],
   "source": [
    "local_zip = './archive.zip'\n",
    "extract_to = './archive'\n",
    "with zipfile.ZipFile(local_zip, 'r') as zip_ref:\n",
    "    zip_ref.extractall(extract_to)"
   ]
  },
  {
   "cell_type": "markdown",
   "id": "b4685b4f-abb7-493b-a1cf-172efc4c874a",
   "metadata": {},
   "source": [
    "## Configurando o Ambiente"
   ]
  },
  {
   "cell_type": "code",
   "execution_count": 57,
   "id": "b3bb73d0-b79f-42f4-8de1-0b6380d386a3",
   "metadata": {},
   "outputs": [
    {
     "name": "stdout",
     "output_type": "stream",
     "text": [
      "env: TF_CPP_MIN_LOG_LEVEL=3\n"
     ]
    }
   ],
   "source": [
    "%env TF_CPP_MIN_LOG_LEVEL = 3"
   ]
  },
  {
   "cell_type": "code",
   "execution_count": 58,
   "id": "55d6c6bd-d22c-42b3-8c6d-e613c0bf5b56",
   "metadata": {},
   "outputs": [],
   "source": [
    "tf.get_logger().setLevel('ERROR')"
   ]
  },
  {
   "cell_type": "markdown",
   "id": "edc1dd46-9b36-4011-a8eb-5fa89e7adcb1",
   "metadata": {},
   "source": [
    "### Verificando e Configurando a GPU"
   ]
  },
  {
   "cell_type": "code",
   "execution_count": 59,
   "id": "f9b52667-4049-4bba-8ce9-d0f13122c111",
   "metadata": {},
   "outputs": [
    {
     "name": "stdout",
     "output_type": "stream",
     "text": [
      "Dispositivos disponíveis: [PhysicalDevice(name='/physical_device:CPU:0', device_type='CPU'), PhysicalDevice(name='/physical_device:GPU:0', device_type='GPU')]\n",
      "GPU disponível: [PhysicalDevice(name='/physical_device:GPU:0', device_type='GPU')]\n"
     ]
    }
   ],
   "source": [
    "devices = tf.config.list_physical_devices()\n",
    "print(\"Dispositivos disponíveis:\", devices)\n",
    "\n",
    "gpu_available = tf.config.list_physical_devices('GPU')\n",
    "if gpu_available:\n",
    "    print(\"GPU disponível:\", gpu_available)\n",
    "else:\n",
    "    print(\"Nenhuma GPU disponível. Utilizando a CPU.\")"
   ]
  },
  {
   "cell_type": "code",
   "execution_count": 60,
   "id": "4c28fc96-1073-40d0-8967-e90aedb46508",
   "metadata": {},
   "outputs": [],
   "source": [
    "tf.config.experimental.set_visible_devices(gpu_available[0], 'GPU')"
   ]
  },
  {
   "cell_type": "markdown",
   "id": "b8a9ffa2-3e08-4d50-a92b-47b427e6ebc0",
   "metadata": {},
   "source": [
    "## Explorando os Dados"
   ]
  },
  {
   "cell_type": "code",
   "execution_count": 61,
   "id": "cd54a645-5c97-4858-86b4-2edb4cc8f7e3",
   "metadata": {},
   "outputs": [],
   "source": [
    "base_dir = './archive'"
   ]
  },
  {
   "cell_type": "code",
   "execution_count": 62,
   "id": "018ce216-c150-4c73-9af8-b943228952f0",
   "metadata": {},
   "outputs": [
    {
     "name": "stdout",
     "output_type": "stream",
     "text": [
      "\n",
      "O Diretório \"train\" tem:\n",
      "\n",
      "Tomato___Spider_mites Two-spotted_spider_mite       : 1341\n",
      "Peach___healthy                                     : 288\n",
      "Orange___Haunglongbing_(Citrus_greening)            : 4405\n",
      "Tomato___Target_Spot                                : 1123\n",
      "Strawberry___Leaf_scorch                            : 887\n",
      "Pepper,_bell___Bacterial_spot                       : 797\n",
      "Blueberry___healthy                                 : 1202\n",
      "Cherry_(including_sour)___healthy                   : 684\n",
      "Tomato___healthy                                    : 1273\n",
      "Tomato___Leaf_Mold                                  : 761\n",
      "Potato___healthy                                    : 121\n",
      "Apple___Black_rot                                   : 496\n",
      "Potato___Early_blight                               : 800\n",
      "Potato___Late_blight                                : 800\n",
      "Peach___Bacterial_spot                              : 1838\n",
      "Tomato___Late_blight                                : 1527\n",
      "Apple___Cedar_apple_rust                            : 220\n",
      "Corn_(maize)___Cercospora_leaf_spot Gray_leaf_spot  : 410\n",
      "Grape___Esca_(Black_Measles)                        : 1107\n",
      "Apple___healthy                                     : 1316\n",
      "Raspberry___healthy                                 : 297\n",
      "Grape___Black_rot                                   : 944\n",
      "Corn_(maize)___Northern_Leaf_Blight                 : 788\n",
      "Tomato___Septoria_leaf_spot                         : 1417\n",
      "Corn_(maize)___healthy                              : 929\n",
      "Soybean___healthy                                   : 4072\n",
      "Apple___Apple_scab                                  : 504\n",
      "Grape___Leaf_blight_(Isariopsis_Leaf_Spot)          : 861\n",
      "Grape___healthy                                     : 339\n",
      "Tomato___Early_blight                               : 800\n",
      "Pepper,_bell___healthy                              : 1183\n",
      "Tomato___Tomato_mosaic_virus                        : 299\n",
      "Corn_(maize)___Common_rust_                         : 953\n",
      "Cherry_(including_sour)___Powdery_mildew            : 842\n",
      "Tomato___Tomato_Yellow_Leaf_Curl_Virus              : 4286\n",
      "Strawberry___healthy                                : 364\n",
      "Tomato___Bacterial_spot                             : 1702\n",
      "Squash___Powdery_mildew                             : 1468\n",
      "\n",
      "O Diretório \"val\" tem:\n",
      "\n",
      "Tomato___Spider_mites Two-spotted_spider_mite       : 335\n",
      "Peach___healthy                                     : 72\n",
      "Orange___Haunglongbing_(Citrus_greening)            : 1102\n",
      "Tomato___Target_Spot                                : 281\n",
      "Strawberry___Leaf_scorch                            : 222\n",
      "Pepper,_bell___Bacterial_spot                       : 200\n",
      "Blueberry___healthy                                 : 300\n",
      "Cherry_(including_sour)___healthy                   : 170\n",
      "Tomato___healthy                                    : 318\n",
      "Tomato___Leaf_Mold                                  : 191\n",
      "Potato___healthy                                    : 31\n",
      "Apple___Black_rot                                   : 125\n",
      "Potato___Early_blight                               : 200\n",
      "Potato___Late_blight                                : 200\n",
      "Peach___Bacterial_spot                              : 459\n",
      "Tomato___Late_blight                                : 382\n",
      "Apple___Cedar_apple_rust                            : 55\n",
      "Corn_(maize)___Cercospora_leaf_spot Gray_leaf_spot  : 103\n",
      "Grape___Esca_(Black_Measles)                        : 276\n",
      "Apple___healthy                                     : 329\n",
      "Raspberry___healthy                                 : 74\n",
      "Grape___Black_rot                                   : 236\n",
      "Corn_(maize)___Northern_Leaf_Blight                 : 197\n",
      "Tomato___Septoria_leaf_spot                         : 354\n",
      "Corn_(maize)___healthy                              : 233\n",
      "Soybean___healthy                                   : 1018\n",
      "Apple___Apple_scab                                  : 126\n",
      "Grape___Leaf_blight_(Isariopsis_Leaf_Spot)          : 215\n",
      "Grape___healthy                                     : 84\n",
      "Tomato___Early_blight                               : 200\n",
      "Pepper,_bell___healthy                              : 295\n",
      "Tomato___Tomato_mosaic_virus                        : 74\n",
      "Corn_(maize)___Common_rust_                         : 239\n",
      "Cherry_(including_sour)___Powdery_mildew            : 210\n",
      "Tomato___Tomato_Yellow_Leaf_Curl_Virus              : 1071\n",
      "Strawberry___healthy                                : 92\n",
      "Tomato___Bacterial_spot                             : 425\n",
      "Squash___Powdery_mildew                             : 367\n"
     ]
    }
   ],
   "source": [
    "max_len = 0\n",
    "\n",
    "for subdir in os.listdir(base_dir):\n",
    "    subdir_path = os.path.join(base_dir, subdir)\n",
    "    for dir_1 in os.listdir(subdir_path):\n",
    "        dir_1_path = os.path.join(subdir_path, dir_1)\n",
    "        for dir_2 in os.listdir(dir_1_path):\n",
    "            dir_2_path = os.path.join(dir_1_path, dir_2)\n",
    "            if os.path.isdir(dir_2_path):\n",
    "                max_len = max(max_len, len(dir_2))\n",
    "\n",
    "max_len += 2\n",
    "\n",
    "for subdir in os.listdir(base_dir):\n",
    "    subdir_path = os.path.join(base_dir, subdir)\n",
    "    for dir_1 in os.listdir(subdir_path):\n",
    "        dir_1_path = os.path.join(subdir_path, dir_1)\n",
    "        print(f'\\nO Diretório \"{dir_1}\" tem:\\n')\n",
    "        for dir_2 in os.listdir(dir_1_path):\n",
    "            dir_2_path = os.path.join(dir_1_path, dir_2)\n",
    "            if os.path.isdir(dir_2_path):\n",
    "                num_items = len(os.listdir(dir_2_path))\n",
    "                print(f'{dir_2:<{max_len}}: {num_items}')"
   ]
  },
  {
   "cell_type": "code",
   "execution_count": 63,
   "id": "0e2ab331-ed0e-4dbe-b587-e8a9e98af375",
   "metadata": {},
   "outputs": [
    {
     "data": {
      "image/jpeg": "[encoded data removed]",
      "image/png": "[encoded data removed]",
      "text/plain": [
       "<PIL.JpegImagePlugin.JpegImageFile image mode=RGB size=256x256>"
      ]
     },
     "metadata": {},
     "output_type": "display_data"
    }
   ],
   "source": [
    "image_pil = Image.open('./archive/PlantVillage/train/Peach___healthy/500b93fd-f11f-4170-8752-966068f57188___Rutg._HL 2502.JPG')\n",
    "display(image_pil)"
   ]
  },
  {
   "cell_type": "markdown",
   "id": "ce771447-3d06-490e-b781-0971f941740c",
   "metadata": {},
   "source": [
    "## Pré-processando das Imagens"
   ]
  },
  {
   "cell_type": "markdown",
   "id": "21e13f9c-0e42-49af-8a85-177c24f89fd9",
   "metadata": {},
   "source": [
    "### Criando Mapeamento de Índices"
   ]
  },
  {
   "cell_type": "code",
   "execution_count": 64,
   "id": "d322582f-7056-4824-ae1d-bc422ec34d7f",
   "metadata": {},
   "outputs": [],
   "source": [
    "labels = []\n",
    "\n",
    "for subdir in os.listdir(base_dir):\n",
    "    if os.path.isdir(base_dir):\n",
    "        subdir_path = os.path.join(base_dir, subdir)\n",
    "        for dir_1 in os.listdir(subdir_path):\n",
    "            if os.path.isdir(subdir_path):\n",
    "                dir_1_path = os.path.join(subdir_path, dir_1)\n",
    "                for dir_2 in os.listdir(dir_1_path):\n",
    "                    if 'train' in dir_1_path:\n",
    "                        labels.append(dir_2)"
   ]
  },
  {
   "cell_type": "code",
   "execution_count": 65,
   "id": "0597d8b6-7967-454f-97fc-032c2928ea10",
   "metadata": {},
   "outputs": [
    {
     "data": {
      "text/plain": [
       "['Tomato___Spider_mites Two-spotted_spider_mite',\n",
       " 'Peach___healthy',\n",
       " 'Orange___Haunglongbing_(Citrus_greening)',\n",
       " 'Tomato___Target_Spot',\n",
       " 'Strawberry___Leaf_scorch',\n",
       " 'Pepper,_bell___Bacterial_spot',\n",
       " 'Blueberry___healthy',\n",
       " 'Cherry_(including_sour)___healthy',\n",
       " 'Tomato___healthy',\n",
       " 'Tomato___Leaf_Mold',\n",
       " 'Potato___healthy',\n",
       " 'Apple___Black_rot',\n",
       " 'Potato___Early_blight',\n",
       " 'Potato___Late_blight',\n",
       " 'Peach___Bacterial_spot',\n",
       " 'Tomato___Late_blight',\n",
       " 'Apple___Cedar_apple_rust',\n",
       " 'Corn_(maize)___Cercospora_leaf_spot Gray_leaf_spot',\n",
       " 'Grape___Esca_(Black_Measles)',\n",
       " 'Apple___healthy',\n",
       " 'Raspberry___healthy',\n",
       " 'Grape___Black_rot',\n",
       " 'Corn_(maize)___Northern_Leaf_Blight',\n",
       " 'Tomato___Septoria_leaf_spot',\n",
       " 'Corn_(maize)___healthy',\n",
       " 'Soybean___healthy',\n",
       " 'Apple___Apple_scab',\n",
       " 'Grape___Leaf_blight_(Isariopsis_Leaf_Spot)',\n",
       " 'Grape___healthy',\n",
       " 'Tomato___Early_blight',\n",
       " 'Pepper,_bell___healthy',\n",
       " 'Tomato___Tomato_mosaic_virus',\n",
       " 'Corn_(maize)___Common_rust_',\n",
       " 'Cherry_(including_sour)___Powdery_mildew',\n",
       " 'Tomato___Tomato_Yellow_Leaf_Curl_Virus',\n",
       " 'Strawberry___healthy',\n",
       " 'Tomato___Bacterial_spot',\n",
       " 'Squash___Powdery_mildew']"
      ]
     },
     "execution_count": 65,
     "metadata": {},
     "output_type": "execute_result"
    }
   ],
   "source": [
    "labels"
   ]
  },
  {
   "cell_type": "code",
   "execution_count": 66,
   "id": "84bf6baa-add6-4968-b0ac-f5b7e5e6aee2",
   "metadata": {},
   "outputs": [
    {
     "data": {
      "text/plain": [
       "38"
      ]
     },
     "execution_count": 66,
     "metadata": {},
     "output_type": "execute_result"
    }
   ],
   "source": [
    "len(labels)"
   ]
  },
  {
   "cell_type": "code",
   "execution_count": 67,
   "id": "2308b78a-89ed-4ee3-80d9-85cf87e68be3",
   "metadata": {},
   "outputs": [],
   "source": [
    "label2id, id2label = dict(), dict()\n",
    "\n",
    "for i, label in enumerate(labels):\n",
    "    label2id[label] = i\n",
    "    id2label[i] = label"
   ]
  },
  {
   "cell_type": "code",
   "execution_count": 68,
   "id": "070a0254-ef5e-49df-8b08-f4973cf1ae04",
   "metadata": {},
   "outputs": [
    {
     "data": {
      "text/plain": [
       "{'Tomato___Spider_mites Two-spotted_spider_mite': 0,\n",
       " 'Peach___healthy': 1,\n",
       " 'Orange___Haunglongbing_(Citrus_greening)': 2,\n",
       " 'Tomato___Target_Spot': 3,\n",
       " 'Strawberry___Leaf_scorch': 4,\n",
       " 'Pepper,_bell___Bacterial_spot': 5,\n",
       " 'Blueberry___healthy': 6,\n",
       " 'Cherry_(including_sour)___healthy': 7,\n",
       " 'Tomato___healthy': 8,\n",
       " 'Tomato___Leaf_Mold': 9,\n",
       " 'Potato___healthy': 10,\n",
       " 'Apple___Black_rot': 11,\n",
       " 'Potato___Early_blight': 12,\n",
       " 'Potato___Late_blight': 13,\n",
       " 'Peach___Bacterial_spot': 14,\n",
       " 'Tomato___Late_blight': 15,\n",
       " 'Apple___Cedar_apple_rust': 16,\n",
       " 'Corn_(maize)___Cercospora_leaf_spot Gray_leaf_spot': 17,\n",
       " 'Grape___Esca_(Black_Measles)': 18,\n",
       " 'Apple___healthy': 19,\n",
       " 'Raspberry___healthy': 20,\n",
       " 'Grape___Black_rot': 21,\n",
       " 'Corn_(maize)___Northern_Leaf_Blight': 22,\n",
       " 'Tomato___Septoria_leaf_spot': 23,\n",
       " 'Corn_(maize)___healthy': 24,\n",
       " 'Soybean___healthy': 25,\n",
       " 'Apple___Apple_scab': 26,\n",
       " 'Grape___Leaf_blight_(Isariopsis_Leaf_Spot)': 27,\n",
       " 'Grape___healthy': 28,\n",
       " 'Tomato___Early_blight': 29,\n",
       " 'Pepper,_bell___healthy': 30,\n",
       " 'Tomato___Tomato_mosaic_virus': 31,\n",
       " 'Corn_(maize)___Common_rust_': 32,\n",
       " 'Cherry_(including_sour)___Powdery_mildew': 33,\n",
       " 'Tomato___Tomato_Yellow_Leaf_Curl_Virus': 34,\n",
       " 'Strawberry___healthy': 35,\n",
       " 'Tomato___Bacterial_spot': 36,\n",
       " 'Squash___Powdery_mildew': 37}"
      ]
     },
     "execution_count": 68,
     "metadata": {},
     "output_type": "execute_result"
    }
   ],
   "source": [
    "label2id"
   ]
  },
  {
   "cell_type": "code",
   "execution_count": 69,
   "id": "14275fbb-90c6-4af3-b97a-22b44586fe1b",
   "metadata": {},
   "outputs": [
    {
     "data": {
      "text/plain": [
       "{0: 'Tomato___Spider_mites Two-spotted_spider_mite',\n",
       " 1: 'Peach___healthy',\n",
       " 2: 'Orange___Haunglongbing_(Citrus_greening)',\n",
       " 3: 'Tomato___Target_Spot',\n",
       " 4: 'Strawberry___Leaf_scorch',\n",
       " 5: 'Pepper,_bell___Bacterial_spot',\n",
       " 6: 'Blueberry___healthy',\n",
       " 7: 'Cherry_(including_sour)___healthy',\n",
       " 8: 'Tomato___healthy',\n",
       " 9: 'Tomato___Leaf_Mold',\n",
       " 10: 'Potato___healthy',\n",
       " 11: 'Apple___Black_rot',\n",
       " 12: 'Potato___Early_blight',\n",
       " 13: 'Potato___Late_blight',\n",
       " 14: 'Peach___Bacterial_spot',\n",
       " 15: 'Tomato___Late_blight',\n",
       " 16: 'Apple___Cedar_apple_rust',\n",
       " 17: 'Corn_(maize)___Cercospora_leaf_spot Gray_leaf_spot',\n",
       " 18: 'Grape___Esca_(Black_Measles)',\n",
       " 19: 'Apple___healthy',\n",
       " 20: 'Raspberry___healthy',\n",
       " 21: 'Grape___Black_rot',\n",
       " 22: 'Corn_(maize)___Northern_Leaf_Blight',\n",
       " 23: 'Tomato___Septoria_leaf_spot',\n",
       " 24: 'Corn_(maize)___healthy',\n",
       " 25: 'Soybean___healthy',\n",
       " 26: 'Apple___Apple_scab',\n",
       " 27: 'Grape___Leaf_blight_(Isariopsis_Leaf_Spot)',\n",
       " 28: 'Grape___healthy',\n",
       " 29: 'Tomato___Early_blight',\n",
       " 30: 'Pepper,_bell___healthy',\n",
       " 31: 'Tomato___Tomato_mosaic_virus',\n",
       " 32: 'Corn_(maize)___Common_rust_',\n",
       " 33: 'Cherry_(including_sour)___Powdery_mildew',\n",
       " 34: 'Tomato___Tomato_Yellow_Leaf_Curl_Virus',\n",
       " 35: 'Strawberry___healthy',\n",
       " 36: 'Tomato___Bacterial_spot',\n",
       " 37: 'Squash___Powdery_mildew'}"
      ]
     },
     "execution_count": 69,
     "metadata": {},
     "output_type": "execute_result"
    }
   ],
   "source": [
    "id2label"
   ]
  },
  {
   "cell_type": "markdown",
   "id": "453f528b-34a4-4b3f-bcc6-f4c4ad903efd",
   "metadata": {},
   "source": [
    "### Organizando as Imagens e os Rótulos"
   ]
  },
  {
   "cell_type": "code",
   "execution_count": 70,
   "id": "aeefc2ab-6db8-4584-9f05-8723e8b48ff0",
   "metadata": {},
   "outputs": [],
   "source": [
    "leaves = {'train': [], 'val': []}\n",
    "\n",
    "for subdir in os.listdir(base_dir):\n",
    "    if os.path.isdir(base_dir):\n",
    "        subdir_path = os.path.join(base_dir, subdir)\n",
    "        for dir_1 in os.listdir(subdir_path):\n",
    "            if os.path.isdir(subdir_path):\n",
    "                dir_1_path = os.path.join(subdir_path, dir_1)\n",
    "                for dir_2 in os.listdir(dir_1_path):\n",
    "                    if os.path.isdir(dir_1_path):\n",
    "                        dir_2_path = os.path.join(dir_1_path, dir_2)\n",
    "                        for image in os.listdir(dir_2_path):\n",
    "                            if os.listdir(dir_2_path):\n",
    "                                image_path = os.path.join(dir_2_path, image)\n",
    "                                if os.path.isfile(image_path):\n",
    "                                    #with Image.open(image_path) as image_pil:\n",
    "                                    if 'train' in dir_2_path:\n",
    "                                        tmp = {'image': image_path, 'label': label2id[dir_2]}\n",
    "                                        leaves['train'].append(tmp)\n",
    "                                    elif 'val' in dir_2_path:\n",
    "                                        tmp = {'image': image_path, 'label': label2id[dir_2]}\n",
    "                                        leaves['val'].append(tmp)"
   ]
  },
  {
   "cell_type": "code",
   "execution_count": 71,
   "id": "bfe8b1ea-c6b6-41c0-9dc6-d74c31cd94e8",
   "metadata": {},
   "outputs": [
    {
     "data": {
      "text/plain": [
       "10861"
      ]
     },
     "execution_count": 71,
     "metadata": {},
     "output_type": "execute_result"
    }
   ],
   "source": [
    "len(leaves['val'])"
   ]
  },
  {
   "cell_type": "code",
   "execution_count": 72,
   "id": "22f9b9f4-e6a6-4b04-9943-aad36db51447",
   "metadata": {},
   "outputs": [
    {
     "data": {
      "text/plain": [
       "43444"
      ]
     },
     "execution_count": 72,
     "metadata": {},
     "output_type": "execute_result"
    }
   ],
   "source": [
    "len(leaves['train'])"
   ]
  },
  {
   "cell_type": "code",
   "execution_count": 73,
   "id": "7a02b5bf-1777-43ff-9063-56e39de7b70e",
   "metadata": {},
   "outputs": [
    {
     "data": {
      "text/plain": [
       "[{'image': './archive/PlantVillage/train/Tomato___Spider_mites Two-spotted_spider_mite/7a08fe90-da9a-41a0-99f0-5952625a83bb___Com.G_SpM_FL 1371.JPG',\n",
       "  'label': 0},\n",
       " {'image': './archive/PlantVillage/train/Tomato___Spider_mites Two-spotted_spider_mite/0f6a5f32-3d95-4ef1-bc01-ba36f2efb2b4___Com.G_SpM_FL 1661.JPG',\n",
       "  'label': 0},\n",
       " {'image': './archive/PlantVillage/train/Tomato___Spider_mites Two-spotted_spider_mite/a8095d03-62bd-4a7e-b4df-f385f809bbc8___Com.G_SpM_FL 8637.JPG',\n",
       "  'label': 0},\n",
       " {'image': './archive/PlantVillage/train/Tomato___Spider_mites Two-spotted_spider_mite/6ad11f4a-0932-412b-86bb-df6f9a7f3dae___Com.G_SpM_FL 9549.JPG',\n",
       "  'label': 0},\n",
       " {'image': './archive/PlantVillage/train/Tomato___Spider_mites Two-spotted_spider_mite/c6f23183-e089-4758-9f8a-a8f702e28336___Com.G_SpM_FL 8646.JPG',\n",
       "  'label': 0}]"
      ]
     },
     "execution_count": 73,
     "metadata": {},
     "output_type": "execute_result"
    }
   ],
   "source": [
    "leaves['train'][:5]"
   ]
  },
  {
   "cell_type": "code",
   "execution_count": 74,
   "id": "107460fa-0196-4123-bf34-45bca8e24ee3",
   "metadata": {},
   "outputs": [
    {
     "data": {
      "text/plain": [
       "[{'image': './archive/PlantVillage/val/Tomato___Spider_mites Two-spotted_spider_mite/772aa86e-e26a-4e4e-bcfc-244984f94580___Com.G_SpM_FL 1627.JPG',\n",
       "  'label': 0},\n",
       " {'image': './archive/PlantVillage/val/Tomato___Spider_mites Two-spotted_spider_mite/a74561dc-37d9-407f-bb58-596344859fa3___Com.G_SpM_FL 8517.JPG',\n",
       "  'label': 0},\n",
       " {'image': './archive/PlantVillage/val/Tomato___Spider_mites Two-spotted_spider_mite/4d19f5b1-d82b-437d-936e-5afaa8ebb885___Com.G_SpM_FL 1390.JPG',\n",
       "  'label': 0},\n",
       " {'image': './archive/PlantVillage/val/Tomato___Spider_mites Two-spotted_spider_mite/2150b3d6-e3fe-4a45-8355-107954d843c8___Com.G_SpM_FL 8578.JPG',\n",
       "  'label': 0},\n",
       " {'image': './archive/PlantVillage/val/Tomato___Spider_mites Two-spotted_spider_mite/f4a12c44-b3a8-4419-b34e-ae6bdfa7d765___Com.G_SpM_FL 9521.JPG',\n",
       "  'label': 0}]"
      ]
     },
     "execution_count": 74,
     "metadata": {},
     "output_type": "execute_result"
    }
   ],
   "source": [
    "leaves['val'][:5]"
   ]
  },
  {
   "cell_type": "markdown",
   "id": "654e3e65-3dff-4b06-8171-7bd278dbe6ba",
   "metadata": {},
   "source": [
    "### Embaralhando os Dados de Treino"
   ]
  },
  {
   "cell_type": "code",
   "execution_count": 75,
   "id": "9a616fa2-d598-45af-88b0-423dfbece27a",
   "metadata": {},
   "outputs": [],
   "source": [
    "random.shuffle(leaves['train'])"
   ]
  },
  {
   "cell_type": "code",
   "execution_count": 76,
   "id": "cd6e7971-c554-4ab2-8348-64f5d3305ffe",
   "metadata": {},
   "outputs": [
    {
     "data": {
      "text/plain": [
       "[{'image': './archive/PlantVillage/train/Grape___Esca_(Black_Measles)/79823d7a-f18b-425b-986d-b0e10e252c71___FAM_B.Msls 3961.JPG',\n",
       "  'label': 18},\n",
       " {'image': './archive/PlantVillage/train/Tomato___Tomato_Yellow_Leaf_Curl_Virus/e030230a-e378-4ccd-b086-17710f52cec1___YLCV_NREC 0127.JPG',\n",
       "  'label': 34},\n",
       " {'image': './archive/PlantVillage/train/Tomato___Septoria_leaf_spot/595a0cc2-9889-4d21-a2a7-eebce965e141___Matt.S_CG 7400.JPG',\n",
       "  'label': 23},\n",
       " {'image': './archive/PlantVillage/train/Orange___Haunglongbing_(Citrus_greening)/01b1393d-79fc-4333-bf2c-d18303903c5a___CREC_HLB 7820.JPG',\n",
       "  'label': 2},\n",
       " {'image': './archive/PlantVillage/train/Soybean___healthy/7b68c9f9-471d-4f77-80f1-858e042e61e1___RS_HL 7180.JPG',\n",
       "  'label': 25}]"
      ]
     },
     "execution_count": 76,
     "metadata": {},
     "output_type": "execute_result"
    }
   ],
   "source": [
    "leaves['train'][:5]"
   ]
  },
  {
   "cell_type": "markdown",
   "id": "ebbfa030-8dba-481a-aaaa-8733eb8ebc6d",
   "metadata": {},
   "source": [
    "### Convertendo o Estrutura dos Dados"
   ]
  },
  {
   "cell_type": "code",
   "execution_count": 77,
   "id": "9a5a8de6-a6cd-4d28-a7ef-2e7dc264499c",
   "metadata": {},
   "outputs": [],
   "source": [
    "train_dataset = Dataset.from_dict({'image': [leaves['train'][i]['image'] for i in range(len(leaves['train']))],\n",
    "                                   'label': [leaves['train'][i]['label'] for i in range(len(leaves['train']))]})\n",
    "val_dataset = Dataset.from_dict({'image': [leaves['val'][i]['image'] for i in range(len(leaves['val']))],\n",
    "                                   'label': [leaves['val'][i]['label'] for i in range(len(leaves['val']))]})"
   ]
  },
  {
   "cell_type": "code",
   "execution_count": 78,
   "id": "b3819137-d73c-4351-ab5e-d58c6b52ac72",
   "metadata": {},
   "outputs": [],
   "source": [
    "leaves = DatasetDict({'train': train_dataset, 'val': val_dataset})"
   ]
  },
  {
   "cell_type": "code",
   "execution_count": 79,
   "id": "414c0650-038b-44c1-915a-03ec32fd1dbd",
   "metadata": {},
   "outputs": [
    {
     "data": {
      "text/plain": [
       "{'image': ['./archive/PlantVillage/train/Grape___Esca_(Black_Measles)/79823d7a-f18b-425b-986d-b0e10e252c71___FAM_B.Msls 3961.JPG',\n",
       "  './archive/PlantVillage/train/Tomato___Tomato_Yellow_Leaf_Curl_Virus/e030230a-e378-4ccd-b086-17710f52cec1___YLCV_NREC 0127.JPG',\n",
       "  './archive/PlantVillage/train/Tomato___Septoria_leaf_spot/595a0cc2-9889-4d21-a2a7-eebce965e141___Matt.S_CG 7400.JPG',\n",
       "  './archive/PlantVillage/train/Orange___Haunglongbing_(Citrus_greening)/01b1393d-79fc-4333-bf2c-d18303903c5a___CREC_HLB 7820.JPG',\n",
       "  './archive/PlantVillage/train/Soybean___healthy/7b68c9f9-471d-4f77-80f1-858e042e61e1___RS_HL 7180.JPG'],\n",
       " 'label': [18, 34, 23, 2, 25]}"
      ]
     },
     "execution_count": 79,
     "metadata": {},
     "output_type": "execute_result"
    }
   ],
   "source": [
    "leaves['train'][:5]"
   ]
  },
  {
   "cell_type": "code",
   "execution_count": 80,
   "id": "6f1251f1-4a4f-4f2e-8084-147bba16d174",
   "metadata": {},
   "outputs": [
    {
     "data": {
      "text/plain": [
       "{'image': ['./archive/PlantVillage/val/Tomato___Spider_mites Two-spotted_spider_mite/772aa86e-e26a-4e4e-bcfc-244984f94580___Com.G_SpM_FL 1627.JPG',\n",
       "  './archive/PlantVillage/val/Tomato___Spider_mites Two-spotted_spider_mite/a74561dc-37d9-407f-bb58-596344859fa3___Com.G_SpM_FL 8517.JPG',\n",
       "  './archive/PlantVillage/val/Tomato___Spider_mites Two-spotted_spider_mite/4d19f5b1-d82b-437d-936e-5afaa8ebb885___Com.G_SpM_FL 1390.JPG',\n",
       "  './archive/PlantVillage/val/Tomato___Spider_mites Two-spotted_spider_mite/2150b3d6-e3fe-4a45-8355-107954d843c8___Com.G_SpM_FL 8578.JPG',\n",
       "  './archive/PlantVillage/val/Tomato___Spider_mites Two-spotted_spider_mite/f4a12c44-b3a8-4419-b34e-ae6bdfa7d765___Com.G_SpM_FL 9521.JPG'],\n",
       " 'label': [0, 0, 0, 0, 0]}"
      ]
     },
     "execution_count": 80,
     "metadata": {},
     "output_type": "execute_result"
    }
   ],
   "source": [
    "leaves['val'][:5]"
   ]
  },
  {
   "cell_type": "markdown",
   "id": "2a8d7c47-bf68-447e-9410-c35b2c08512c",
   "metadata": {},
   "source": [
    "### Carregando o Modelo e o Processador"
   ]
  },
  {
   "cell_type": "code",
   "execution_count": 81,
   "id": "d6133595-e270-4bfe-8545-48e5a0ae8484",
   "metadata": {},
   "outputs": [],
   "source": [
    "modelo_hf = 'google/vit-base-patch16-224-in21k'"
   ]
  },
  {
   "cell_type": "code",
   "execution_count": 82,
   "id": "1ef46899-d773-49e2-a221-1fdb3a8c3853",
   "metadata": {},
   "outputs": [],
   "source": [
    "processor = AutoImageProcessor.from_pretrained(modelo_hf)"
   ]
  },
  {
   "cell_type": "code",
   "execution_count": 83,
   "id": "e2e18a61-c8c4-43b9-9fd0-6f013138a19e",
   "metadata": {},
   "outputs": [
    {
     "data": {
      "text/plain": [
       "ViTImageProcessor {\n",
       "  \"do_normalize\": true,\n",
       "  \"do_rescale\": true,\n",
       "  \"do_resize\": true,\n",
       "  \"image_mean\": [\n",
       "    0.5,\n",
       "    0.5,\n",
       "    0.5\n",
       "  ],\n",
       "  \"image_processor_type\": \"ViTImageProcessor\",\n",
       "  \"image_std\": [\n",
       "    0.5,\n",
       "    0.5,\n",
       "    0.5\n",
       "  ],\n",
       "  \"resample\": 2,\n",
       "  \"rescale_factor\": 0.00392156862745098,\n",
       "  \"size\": {\n",
       "    \"height\": 224,\n",
       "    \"width\": 224\n",
       "  }\n",
       "}"
      ]
     },
     "execution_count": 83,
     "metadata": {},
     "output_type": "execute_result"
    }
   ],
   "source": [
    "processor"
   ]
  },
  {
   "cell_type": "code",
   "execution_count": 84,
   "id": "2d2ac9af-8380-4b9c-a70b-e1f562a431d7",
   "metadata": {},
   "outputs": [],
   "source": [
    "mean, std = processor.image_mean, processor.image_std"
   ]
  },
  {
   "cell_type": "code",
   "execution_count": 85,
   "id": "6f2bdf62-4ad9-4920-911a-9a6aee4cca07",
   "metadata": {},
   "outputs": [
    {
     "data": {
      "text/plain": [
       "[0.5, 0.5, 0.5]"
      ]
     },
     "execution_count": 85,
     "metadata": {},
     "output_type": "execute_result"
    }
   ],
   "source": [
    "mean"
   ]
  },
  {
   "cell_type": "code",
   "execution_count": 86,
   "id": "9a64ccf4-d7e2-4503-9401-8cfe29037fe5",
   "metadata": {},
   "outputs": [
    {
     "data": {
      "text/plain": [
       "[0.5, 0.5, 0.5]"
      ]
     },
     "execution_count": 86,
     "metadata": {},
     "output_type": "execute_result"
    }
   ],
   "source": [
    "std"
   ]
  },
  {
   "cell_type": "code",
   "execution_count": 87,
   "id": "9dabcf58-8079-4e82-aa0a-462fc6fa0fe3",
   "metadata": {},
   "outputs": [],
   "source": [
    "height, width = processor.size['height'], processor.size['width']"
   ]
  },
  {
   "cell_type": "code",
   "execution_count": 88,
   "id": "df8e4e3a-b938-49bb-b1f2-97fcef41ad86",
   "metadata": {},
   "outputs": [
    {
     "data": {
      "text/plain": [
       "224"
      ]
     },
     "execution_count": 88,
     "metadata": {},
     "output_type": "execute_result"
    }
   ],
   "source": [
    "height"
   ]
  },
  {
   "cell_type": "code",
   "execution_count": 89,
   "id": "3b370bfc-185d-4037-abc9-23b17dec57f7",
   "metadata": {},
   "outputs": [
    {
     "data": {
      "text/plain": [
       "224"
      ]
     },
     "execution_count": 89,
     "metadata": {},
     "output_type": "execute_result"
    }
   ],
   "source": [
    "width"
   ]
  },
  {
   "cell_type": "code",
   "execution_count": 90,
   "id": "217b143d-5dde-42e1-a22b-acbcad062b81",
   "metadata": {},
   "outputs": [],
   "source": [
    "scale = processor.rescale_factor"
   ]
  },
  {
   "cell_type": "code",
   "execution_count": 91,
   "id": "bfb213d5-99d3-48bc-80bd-46b302a51ace",
   "metadata": {},
   "outputs": [
    {
     "data": {
      "text/plain": [
       "0.00392156862745098"
      ]
     },
     "execution_count": 91,
     "metadata": {},
     "output_type": "execute_result"
    }
   ],
   "source": [
    "scale"
   ]
  },
  {
   "cell_type": "code",
   "execution_count": 92,
   "id": "075723b0-5b03-40f9-8b9b-257567321eaf",
   "metadata": {},
   "outputs": [],
   "source": [
    "#Função de aumento e normalização dos dados\n",
    "train_data_augmentation = tf.keras.Sequential([\n",
    "    tf.keras.layers.RandomCrop(height, width),\n",
    "    tf.keras.layers.Normalization(mean=mean, variance=[s**2 for s in std]),\n",
    "    tf.keras.layers.Rescaling(scale= scale),\n",
    "    tf.keras.layers.RandomFlip('horizontal'),\n",
    "    tf.keras.layers.RandomRotation(factor=0.2),\n",
    "    tf.keras.layers.RandomZoom(height_factor=0.2, width_factor=0.2),\n",
    "], name = 'train_data_augmentation')\n",
    "\n",
    "val_data_augmentation = tf.keras.Sequential([\n",
    "    tf.keras.layers.CenterCrop(height, width),\n",
    "    tf.keras.layers.Normalization(mean=mean, variance=[s**2 for s in std]),\n",
    "    tf.keras.layers.Rescaling(scale=scale)\n",
    "], name='val_data_augmentation')"
   ]
  },
  {
   "cell_type": "code",
   "execution_count": 93,
   "id": "57a2075a-5567-4a49-840d-633447d54e51",
   "metadata": {},
   "outputs": [],
   "source": [
    "# Função para converter para tf.tensor\n",
    "def convert_to_tensor(path_image):\n",
    "    image = Image.open(path_image)\n",
    "    image_rgb = image.convert('RGB')\n",
    "    np_image = np.array(image_rgb)\n",
    "    tf_image = tf.convert_to_tensor(np_image, dtype=tf.float32)\n",
    "    return tf.expand_dims(tf_image, 0)"
   ]
  },
  {
   "cell_type": "code",
   "execution_count": 94,
   "id": "51fd0e30-aeb1-4d8c-bb11-0772ad00c81e",
   "metadata": {},
   "outputs": [],
   "source": [
    "# Função para aplicar as transformações aos dados de treino e validação\n",
    "def preprocess_train(batch):\n",
    "    images = [\n",
    "        train_data_augmentation(convert_to_tensor(path_image)) for path_image in batch['image']\n",
    "    ]\n",
    "    batch['pixel_values'] = [tf.transpose(tf.squeeze(image)) for image in images]\n",
    "    return batch\n",
    "\n",
    "def preprocess_val(batch):\n",
    "    images = [\n",
    "        val_data_augmentation(convert_to_tensor(path_image)) for path_image in batch['image']\n",
    "    ]\n",
    "    batch['pixel_values'] = [tf.transpose(tf.squeeze(image)) for image in images]\n",
    "    return batch"
   ]
  },
  {
   "cell_type": "code",
   "execution_count": 95,
   "id": "d152aee3-1366-4e2d-8f95-82799ba15350",
   "metadata": {},
   "outputs": [],
   "source": [
    "leaves['train'].set_transform(preprocess_train)\n",
    "leaves['val'].set_transform(preprocess_val)"
   ]
  },
  {
   "cell_type": "code",
   "execution_count": 96,
   "id": "c2cf2039-c987-4f2d-9ac4-4ecf2be87fb4",
   "metadata": {},
   "outputs": [
    {
     "data": {
      "text/plain": [
       "{'image': './archive/PlantVillage/train/Grape___Esca_(Black_Measles)/79823d7a-f18b-425b-986d-b0e10e252c71___FAM_B.Msls 3961.JPG',\n",
       " 'label': 18,\n",
       " 'pixel_values': <tf.Tensor: shape=(3, 224, 224), dtype=float32, numpy=\n",
       " array([[[0.6607121 , 0.42088467, 0.31721684, ..., 1.4062463 ,\n",
       "          1.4219462 , 1.4539586 ],\n",
       "         [0.6556052 , 0.4680105 , 0.4097039 , ..., 1.2931327 ,\n",
       "          1.298896  , 1.3508343 ],\n",
       "         [0.69516385, 0.45080486, 0.36762723, ..., 1.2629174 ,\n",
       "          1.2441052 , 1.2468486 ],\n",
       "         ...,\n",
       "         [0.6354668 , 0.64120626, 0.57240206, ..., 1.0860934 ,\n",
       "          1.2710816 , 1.3512124 ],\n",
       "         [0.7014925 , 0.65819985, 0.60193616, ..., 1.2101308 ,\n",
       "          1.159045  , 1.1013806 ],\n",
       "         [0.689774  , 0.7160413 , 0.6858247 , ..., 1.4055777 ,\n",
       "          1.2466352 , 0.96820873]],\n",
       " \n",
       "        [[0.4844417 , 0.29703587, 0.25647154, ..., 1.327815  ,\n",
       "          1.3435148 , 1.3755273 ],\n",
       "         [0.4375794 , 0.3198922 , 0.3367695 , ..., 1.2147014 ,\n",
       "          1.2204646 , 1.2724029 ],\n",
       "         [0.48152402, 0.3093954 , 0.30300716, ..., 1.184486  ,\n",
       "          1.1656739 , 1.1684172 ],\n",
       "         ...,\n",
       "         [0.91389894, 0.93788254, 0.89739794, ..., 1.2500442 ,\n",
       "          1.4356246 , 1.5238447 ],\n",
       "         [0.98681796, 0.9509181 , 0.9115454 , ..., 1.3672303 ,\n",
       "          1.3113836 , 1.2631578 ],\n",
       "         [0.9775287 , 1.0016139 , 0.9771195 , ..., 1.5511923 ,\n",
       "          1.3887111 , 1.1171113 ]],\n",
       " \n",
       "        [[0.2708921 , 0.07763463, 0.02985816, ..., 1.3199719 ,\n",
       "          1.3356715 , 1.3676841 ],\n",
       "         [0.251916  , 0.09084334, 0.09749504, ..., 1.2068583 ,\n",
       "          1.2126215 , 1.2645597 ],\n",
       "         [0.31664705, 0.10913691, 0.0814269 , ..., 1.1766429 ,\n",
       "          1.1578306 , 1.1605741 ],\n",
       "         ...,\n",
       "         [0.61509603, 0.58746064, 0.47711313, ..., 1.1316779 ,\n",
       "          1.3169534 , 1.4016918 ],\n",
       "         [0.67986745, 0.62352306, 0.5460278 , ..., 1.2442597 ,\n",
       "          1.1952021 , 1.1455901 ],\n",
       "         [0.6638115 , 0.6942588 , 0.659687  , ..., 1.4252437 ,\n",
       "          1.2648395 , 1.0015411 ]]], dtype=float32)>}"
      ]
     },
     "execution_count": 96,
     "metadata": {},
     "output_type": "execute_result"
    }
   ],
   "source": [
    "leaves[\"train\"][0]"
   ]
  },
  {
   "cell_type": "code",
   "execution_count": 97,
   "id": "9f95b4e5-39b6-4b3b-bd09-3b2601236c7f",
   "metadata": {},
   "outputs": [
    {
     "data": {
      "text/plain": [
       "{'image': './archive/PlantVillage/val/Tomato___Spider_mites Two-spotted_spider_mite/772aa86e-e26a-4e4e-bcfc-244984f94580___Com.G_SpM_FL 1627.JPG',\n",
       " 'label': 0,\n",
       " 'pixel_values': <tf.Tensor: shape=(3, 224, 224), dtype=float32, numpy=\n",
       " array([[[1.0862746 , 1.0078433 , 1.        , ..., 1.3215687 ,\n",
       "          1.2509805 , 1.2901962 ],\n",
       "         [0.9843138 , 0.97647065, 0.9215687 , ..., 1.4941177 ,\n",
       "          1.1882354 , 1.1490197 ],\n",
       "         [0.9686275 , 0.8352942 , 0.9450981 , ..., 1.3450981 ,\n",
       "          1.2117648 , 1.2901962 ],\n",
       "         ...,\n",
       "         [0.9058824 , 0.93725497, 0.8588236 , ..., 1.4862746 ,\n",
       "          1.4862746 , 1.4313726 ],\n",
       "         [0.86666673, 0.8745099 , 0.82745105, ..., 1.4156864 ,\n",
       "          1.5176471 , 1.5411766 ],\n",
       "         [0.9921569 , 0.86666673, 1.        , ..., 1.4862746 ,\n",
       "          1.5019609 , 1.4078432 ]],\n",
       " \n",
       "        [[0.9921569 , 0.91372555, 0.9058824 , ..., 1.2352942 ,\n",
       "          1.164706  , 1.2039217 ],\n",
       "         [0.89019614, 0.882353  , 0.82745105, ..., 1.4078432 ,\n",
       "          1.1019609 , 1.0784315 ],\n",
       "         [0.8745099 , 0.7411765 , 0.85098046, ..., 1.2588236 ,\n",
       "          1.1254903 , 1.2039217 ],\n",
       "         ...,\n",
       "         [0.8117648 , 0.8431373 , 0.76470596, ..., 1.4392158 ,\n",
       "          1.4392158 , 1.3843138 ],\n",
       "         [0.7725491 , 0.7803922 , 0.73333335, ..., 1.3686275 ,\n",
       "          1.4705883 , 1.4941177 ],\n",
       "         [0.8980393 , 0.7725491 , 0.9058824 , ..., 1.4392158 ,\n",
       "          1.454902  , 1.3607844 ]],\n",
       " \n",
       "        [[1.0235295 , 0.9450981 , 0.93725497, ..., 1.2666668 ,\n",
       "          1.1960785 , 1.2352942 ],\n",
       "         [0.9215687 , 0.91372555, 0.8588236 , ..., 1.4392158 ,\n",
       "          1.1333334 , 1.1019609 ],\n",
       "         [0.9058824 , 0.7725491 , 0.882353  , ..., 1.2901962 ,\n",
       "          1.1568629 , 1.2352942 ],\n",
       "         ...,\n",
       "         [0.82745105, 0.8588236 , 0.7803922 , ..., 1.454902  ,\n",
       "          1.454902  , 1.4000001 ],\n",
       "         [0.78823537, 0.7960785 , 0.7490196 , ..., 1.3843138 ,\n",
       "          1.4862746 , 1.509804  ],\n",
       "         [0.91372555, 0.78823537, 0.9215687 , ..., 1.454902  ,\n",
       "          1.4705883 , 1.3764707 ]]], dtype=float32)>}"
      ]
     },
     "execution_count": 97,
     "metadata": {},
     "output_type": "execute_result"
    }
   ],
   "source": [
    "leaves['val'][0]"
   ]
  },
  {
   "cell_type": "markdown",
   "id": "f8390e1c-08ba-41ea-9aa7-f92d71cf3175",
   "metadata": {},
   "source": [
    "### Definindo o Coletor de Dados Padrão"
   ]
  },
  {
   "cell_type": "code",
   "execution_count": 98,
   "id": "f37f8390-452f-4a51-900a-f6ef91652f24",
   "metadata": {},
   "outputs": [],
   "source": [
    "data_collator = DefaultDataCollator(return_tensors='tf')"
   ]
  },
  {
   "cell_type": "markdown",
   "id": "50d907c4-65bb-46b8-9cca-315ae0aafdb5",
   "metadata": {},
   "source": [
    "## Definindo Argumentos e Hiperparâmetros do Fine-Tuning"
   ]
  },
  {
   "cell_type": "markdown",
   "id": "1cfbac0a-07eb-4fa6-8b79-53c4dd197cdf",
   "metadata": {},
   "source": [
    "### Avaliação Durante o Treinamento"
   ]
  },
  {
   "cell_type": "code",
   "execution_count": 99,
   "id": "6b024399-bbcc-4891-8e92-4189dc77b773",
   "metadata": {},
   "outputs": [],
   "source": [
    "accuracy = evaluate.load('accuracy')"
   ]
  },
  {
   "cell_type": "code",
   "execution_count": 100,
   "id": "9af77f07-1b69-4ed4-b760-567b0fbf7cf8",
   "metadata": {},
   "outputs": [],
   "source": [
    "def compute_metrics(eval):\n",
    "    predictions, labels = eval\n",
    "    predictions = np.argmax(predictions, axis=1)\n",
    "    return accuracy.compute(predictions=predictions, references=labels)"
   ]
  },
  {
   "cell_type": "markdown",
   "id": "b86d2975-baf3-4367-a059-297e31180e22",
   "metadata": {},
   "source": [
    "### Otimizadores e Agendadores de Taxa de Aprendizado"
   ]
  },
  {
   "cell_type": "code",
   "execution_count": 101,
   "id": "edb4f5cb-e500-44e9-a066-575a51fed483",
   "metadata": {},
   "outputs": [],
   "source": [
    "batch_size = 32\n",
    "num_epochs = 3\n",
    "num_train_steps = len(leaves['train']) * num_epochs\n",
    "lr = 5e-5\n",
    "weight_decay_rate = 0.01\n",
    "\n",
    "optimizer, lr_scheduler = create_optimizer(\n",
    "    init_lr= lr,\n",
    "    num_train_steps = num_train_steps,\n",
    "    weight_decay_rate=weight_decay_rate,\n",
    "    num_warmup_steps=0,\n",
    ")\n",
    "\n",
    "optimizer.learning_rate = lr_scheduler"
   ]
  },
  {
   "cell_type": "markdown",
   "id": "ee16d8e9-c176-4d8c-871b-48b60f8262f7",
   "metadata": {},
   "source": [
    "### Carregamento do Modelo com os Rótulos"
   ]
  },
  {
   "cell_type": "code",
   "execution_count": 102,
   "id": "2f38d025-b9dc-4799-ba86-907902717e9f",
   "metadata": {},
   "outputs": [
    {
     "name": "stderr",
     "output_type": "stream",
     "text": [
      "Some weights of the PyTorch model were not used when initializing the TF 2.0 model TFViTForImageClassification: ['pooler.dense.weight', 'pooler.dense.bias']\n",
      "- This IS expected if you are initializing TFViTForImageClassification from a PyTorch model trained on another task or with another architecture (e.g. initializing a TFBertForSequenceClassification model from a BertForPreTraining model).\n",
      "- This IS NOT expected if you are initializing TFViTForImageClassification from a PyTorch model that you expect to be exactly identical (e.g. initializing a TFBertForSequenceClassification model from a BertForSequenceClassification model).\n",
      "Some weights or buffers of the TF 2.0 model TFViTForImageClassification were not initialized from the PyTorch model and are newly initialized: ['classifier.weight', 'classifier.bias']\n",
      "You should probably TRAIN this model on a down-stream task to be able to use it for predictions and inference.\n"
     ]
    }
   ],
   "source": [
    "model = TFAutoModelForImageClassification.from_pretrained(\n",
    "    modelo_hf,\n",
    "    id2label=id2label,\n",
    "    label2id=label2id,\n",
    "    ignore_mismatched_sizes = True\n",
    ")"
   ]
  },
  {
   "cell_type": "markdown",
   "id": "b6781a4a-ecf4-4161-89eb-68d3f1a3d542",
   "metadata": {},
   "source": [
    "### Convertendo para Tensorflow Dataset"
   ]
  },
  {
   "cell_type": "code",
   "execution_count": 103,
   "id": "515ec138-5507-4a26-86e6-fec1e14f2199",
   "metadata": {},
   "outputs": [],
   "source": [
    "train_dataset = leaves['train'].to_tf_dataset(\n",
    "    columns='pixel_values', label_cols='label', shuffle=True, batch_size=batch_size, collate_fn=data_collator\n",
    ")\n",
    "\n",
    "eval_dataset = leaves['val'].to_tf_dataset(\n",
    "    columns='pixel_values', label_cols='label', shuffle=True, batch_size=batch_size, collate_fn=data_collator\n",
    ")"
   ]
  },
  {
   "cell_type": "markdown",
   "id": "0546174e-fb8d-4ef6-9aaa-4051d959d31e",
   "metadata": {},
   "source": [
    "### Configurando o Compilador"
   ]
  },
  {
   "cell_type": "code",
   "execution_count": 104,
   "id": "2545ed2c-d977-46a6-a58c-a2b7424e3879",
   "metadata": {},
   "outputs": [],
   "source": [
    "loss = tf.keras.losses.SparseCategoricalCrossentropy(from_logits=True)\n",
    "model.compile(optimizer=optimizer, loss=loss)"
   ]
  },
  {
   "cell_type": "markdown",
   "id": "91255676-6028-4b6c-905c-aa4087d75353",
   "metadata": {},
   "source": [
    "### Configurando a Chamada de Volta"
   ]
  },
  {
   "cell_type": "code",
   "execution_count": 105,
   "id": "98163e5a-3aa4-4664-ae8b-fd7425168a33",
   "metadata": {},
   "outputs": [],
   "source": [
    "metric_callback = KerasMetricCallback(metric_fn=compute_metrics, eval_dataset=eval_dataset)\n",
    "callback = [metric_callback]"
   ]
  },
  {
   "cell_type": "markdown",
   "id": "2ace99cb-c4f9-4dc2-a74a-635c58851eb9",
   "metadata": {},
   "source": [
    "## Treinamento do Modelo"
   ]
  },
  {
   "cell_type": "code",
   "execution_count": 106,
   "id": "7eb920b5-60de-464a-bf8c-d074e935881d",
   "metadata": {
    "scrolled": true
   },
   "outputs": [
    {
     "name": "stdout",
     "output_type": "stream",
     "text": [
      "Epoch 1/3\n",
      "1357/1358 [============================>.] - ETA: 1s - loss: 0.6329"
     ]
    },
    {
     "name": "stderr",
     "output_type": "stream",
     "text": [
      "W0000 00:00:1721254631.664910   35255 gpu_timer.cc:114] Skipping the delay kernel, measurement accuracy will be reduced\n",
      "W0000 00:00:1721254631.666411   35255 gpu_timer.cc:114] Skipping the delay kernel, measurement accuracy will be reduced\n",
      "W0000 00:00:1721254631.668139   35255 gpu_timer.cc:114] Skipping the delay kernel, measurement accuracy will be reduced\n",
      "W0000 00:00:1721254631.669642   35255 gpu_timer.cc:114] Skipping the delay kernel, measurement accuracy will be reduced\n",
      "W0000 00:00:1721254631.671165   35255 gpu_timer.cc:114] Skipping the delay kernel, measurement accuracy will be reduced\n",
      "W0000 00:00:1721254631.672875   35255 gpu_timer.cc:114] Skipping the delay kernel, measurement accuracy will be reduced\n",
      "W0000 00:00:1721254631.674582   35255 gpu_timer.cc:114] Skipping the delay kernel, measurement accuracy will be reduced\n",
      "W0000 00:00:1721254631.676231   35255 gpu_timer.cc:114] Skipping the delay kernel, measurement accuracy will be reduced\n",
      "W0000 00:00:1721254631.677976   35255 gpu_timer.cc:114] Skipping the delay kernel, measurement accuracy will be reduced\n",
      "W0000 00:00:1721254631.679821   35255 gpu_timer.cc:114] Skipping the delay kernel, measurement accuracy will be reduced\n",
      "W0000 00:00:1721254631.681543   35255 gpu_timer.cc:114] Skipping the delay kernel, measurement accuracy will be reduced\n",
      "W0000 00:00:1721254631.683873   35255 gpu_timer.cc:114] Skipping the delay kernel, measurement accuracy will be reduced\n",
      "W0000 00:00:1721254631.686162   35255 gpu_timer.cc:114] Skipping the delay kernel, measurement accuracy will be reduced\n",
      "W0000 00:00:1721254631.688179   35255 gpu_timer.cc:114] Skipping the delay kernel, measurement accuracy will be reduced\n",
      "W0000 00:00:1721254631.691250   35255 gpu_timer.cc:114] Skipping the delay kernel, measurement accuracy will be reduced\n",
      "W0000 00:00:1721254631.695466   35255 gpu_timer.cc:114] Skipping the delay kernel, measurement accuracy will be reduced\n",
      "W0000 00:00:1721254631.701546   35255 gpu_timer.cc:114] Skipping the delay kernel, measurement accuracy will be reduced\n",
      "W0000 00:00:1721254631.706558   35255 gpu_timer.cc:114] Skipping the delay kernel, measurement accuracy will be reduced\n",
      "W0000 00:00:1721254631.710543   35255 gpu_timer.cc:114] Skipping the delay kernel, measurement accuracy will be reduced\n",
      "W0000 00:00:1721254631.713852   35255 gpu_timer.cc:114] Skipping the delay kernel, measurement accuracy will be reduced\n",
      "W0000 00:00:1721254631.953476   35254 gpu_timer.cc:114] Skipping the delay kernel, measurement accuracy will be reduced\n",
      "W0000 00:00:1721254632.146744   35254 gpu_timer.cc:114] Skipping the delay kernel, measurement accuracy will be reduced\n",
      "W0000 00:00:1721254632.148375   35254 gpu_timer.cc:114] Skipping the delay kernel, measurement accuracy will be reduced\n",
      "W0000 00:00:1721254632.150027   35254 gpu_timer.cc:114] Skipping the delay kernel, measurement accuracy will be reduced\n",
      "W0000 00:00:1721254632.152078   35254 gpu_timer.cc:114] Skipping the delay kernel, measurement accuracy will be reduced\n",
      "W0000 00:00:1721254632.153810   35254 gpu_timer.cc:114] Skipping the delay kernel, measurement accuracy will be reduced\n"
     ]
    },
    {
     "name": "stdout",
     "output_type": "stream",
     "text": [
      "1358/1358 [==============================] - ETA: 0s - loss: 0.6327"
     ]
    },
    {
     "name": "stderr",
     "output_type": "stream",
     "text": [
      "W0000 00:00:1721254632.155507   35254 gpu_timer.cc:114] Skipping the delay kernel, measurement accuracy will be reduced\n",
      "W0000 00:00:1721254632.157556   35254 gpu_timer.cc:114] Skipping the delay kernel, measurement accuracy will be reduced\n",
      "W0000 00:00:1721254632.159655   35254 gpu_timer.cc:114] Skipping the delay kernel, measurement accuracy will be reduced\n",
      "W0000 00:00:1721254632.162420   35254 gpu_timer.cc:114] Skipping the delay kernel, measurement accuracy will be reduced\n",
      "W0000 00:00:1721254632.164208   35254 gpu_timer.cc:114] Skipping the delay kernel, measurement accuracy will be reduced\n",
      "W0000 00:00:1721254632.166478   35254 gpu_timer.cc:114] Skipping the delay kernel, measurement accuracy will be reduced\n",
      "W0000 00:00:1721254632.168877   35254 gpu_timer.cc:114] Skipping the delay kernel, measurement accuracy will be reduced\n",
      "W0000 00:00:1721254632.170614   35254 gpu_timer.cc:114] Skipping the delay kernel, measurement accuracy will be reduced\n",
      "W0000 00:00:1721254632.172385   35254 gpu_timer.cc:114] Skipping the delay kernel, measurement accuracy will be reduced\n",
      "W0000 00:00:1721254632.174072   35254 gpu_timer.cc:114] Skipping the delay kernel, measurement accuracy will be reduced\n",
      "W0000 00:00:1721254632.175757   35254 gpu_timer.cc:114] Skipping the delay kernel, measurement accuracy will be reduced\n",
      "W0000 00:00:1721254632.179836   35254 gpu_timer.cc:114] Skipping the delay kernel, measurement accuracy will be reduced\n",
      "W0000 00:00:1721254632.181534   35254 gpu_timer.cc:114] Skipping the delay kernel, measurement accuracy will be reduced\n",
      "W0000 00:00:1721254632.183746   35254 gpu_timer.cc:114] Skipping the delay kernel, measurement accuracy will be reduced\n",
      "W0000 00:00:1721254632.185328   35254 gpu_timer.cc:114] Skipping the delay kernel, measurement accuracy will be reduced\n",
      "W0000 00:00:1721254632.187143   35254 gpu_timer.cc:114] Skipping the delay kernel, measurement accuracy will be reduced\n",
      "W0000 00:00:1721254632.188554   35254 gpu_timer.cc:114] Skipping the delay kernel, measurement accuracy will be reduced\n",
      "W0000 00:00:1721254632.190519   35254 gpu_timer.cc:114] Skipping the delay kernel, measurement accuracy will be reduced\n",
      "W0000 00:00:1721254632.192390   35254 gpu_timer.cc:114] Skipping the delay kernel, measurement accuracy will be reduced\n",
      "W0000 00:00:1721254632.194258   35254 gpu_timer.cc:114] Skipping the delay kernel, measurement accuracy will be reduced\n",
      "W0000 00:00:1721254634.664131   35247 gpu_timer.cc:114] Skipping the delay kernel, measurement accuracy will be reduced\n",
      "W0000 00:00:1721254634.675031   35247 gpu_timer.cc:114] Skipping the delay kernel, measurement accuracy will be reduced\n",
      "W0000 00:00:1721254634.677286   35247 gpu_timer.cc:114] Skipping the delay kernel, measurement accuracy will be reduced\n",
      "W0000 00:00:1721254634.679393   35247 gpu_timer.cc:114] Skipping the delay kernel, measurement accuracy will be reduced\n",
      "W0000 00:00:1721254634.681960   35247 gpu_timer.cc:114] Skipping the delay kernel, measurement accuracy will be reduced\n",
      "W0000 00:00:1721254634.691981   35247 gpu_timer.cc:114] Skipping the delay kernel, measurement accuracy will be reduced\n",
      "W0000 00:00:1721254634.699001   35247 gpu_timer.cc:114] Skipping the delay kernel, measurement accuracy will be reduced\n",
      "W0000 00:00:1721254634.701038   35247 gpu_timer.cc:114] Skipping the delay kernel, measurement accuracy will be reduced\n",
      "W0000 00:00:1721254634.703418   35247 gpu_timer.cc:114] Skipping the delay kernel, measurement accuracy will be reduced\n",
      "W0000 00:00:1721254634.706199   35247 gpu_timer.cc:114] Skipping the delay kernel, measurement accuracy will be reduced\n",
      "W0000 00:00:1721254634.844329   35247 gpu_timer.cc:114] Skipping the delay kernel, measurement accuracy will be reduced\n",
      "W0000 00:00:1721254634.846808   35247 gpu_timer.cc:114] Skipping the delay kernel, measurement accuracy will be reduced\n",
      "W0000 00:00:1721254634.851192   35247 gpu_timer.cc:114] Skipping the delay kernel, measurement accuracy will be reduced\n",
      "W0000 00:00:1721254634.858625   35247 gpu_timer.cc:114] Skipping the delay kernel, measurement accuracy will be reduced\n",
      "W0000 00:00:1721254634.864579   35247 gpu_timer.cc:114] Skipping the delay kernel, measurement accuracy will be reduced\n",
      "W0000 00:00:1721254634.872470   35247 gpu_timer.cc:114] Skipping the delay kernel, measurement accuracy will be reduced\n",
      "W0000 00:00:1721254634.878552   35247 gpu_timer.cc:114] Skipping the delay kernel, measurement accuracy will be reduced\n",
      "W0000 00:00:1721254772.566174   35248 gpu_timer.cc:114] Skipping the delay kernel, measurement accuracy will be reduced\n",
      "W0000 00:00:1721254772.567467   35248 gpu_timer.cc:114] Skipping the delay kernel, measurement accuracy will be reduced\n",
      "W0000 00:00:1721254772.568733   35248 gpu_timer.cc:114] Skipping the delay kernel, measurement accuracy will be reduced\n",
      "W0000 00:00:1721254772.570012   35248 gpu_timer.cc:114] Skipping the delay kernel, measurement accuracy will be reduced\n",
      "W0000 00:00:1721254772.571457   35248 gpu_timer.cc:114] Skipping the delay kernel, measurement accuracy will be reduced\n",
      "W0000 00:00:1721254772.573358   35248 gpu_timer.cc:114] Skipping the delay kernel, measurement accuracy will be reduced\n",
      "W0000 00:00:1721254772.575287   35248 gpu_timer.cc:114] Skipping the delay kernel, measurement accuracy will be reduced\n",
      "W0000 00:00:1721254772.576527   35248 gpu_timer.cc:114] Skipping the delay kernel, measurement accuracy will be reduced\n",
      "W0000 00:00:1721254772.577892   35248 gpu_timer.cc:114] Skipping the delay kernel, measurement accuracy will be reduced\n",
      "W0000 00:00:1721254772.579535   35248 gpu_timer.cc:114] Skipping the delay kernel, measurement accuracy will be reduced\n",
      "W0000 00:00:1721254772.581662   35248 gpu_timer.cc:114] Skipping the delay kernel, measurement accuracy will be reduced\n",
      "W0000 00:00:1721254772.583039   35248 gpu_timer.cc:114] Skipping the delay kernel, measurement accuracy will be reduced\n",
      "W0000 00:00:1721254772.585284   35248 gpu_timer.cc:114] Skipping the delay kernel, measurement accuracy will be reduced\n",
      "W0000 00:00:1721254772.588676   35248 gpu_timer.cc:114] Skipping the delay kernel, measurement accuracy will be reduced\n",
      "W0000 00:00:1721254772.591464   35248 gpu_timer.cc:114] Skipping the delay kernel, measurement accuracy will be reduced\n",
      "W0000 00:00:1721254772.594858   35248 gpu_timer.cc:114] Skipping the delay kernel, measurement accuracy will be reduced\n",
      "W0000 00:00:1721254772.600102   35248 gpu_timer.cc:114] Skipping the delay kernel, measurement accuracy will be reduced\n"
     ]
    },
    {
     "name": "stdout",
     "output_type": "stream",
     "text": [
      "1358/1358 [==============================] - 2037s 1s/step - loss: 0.6327 - val_loss: 0.1174 - accuracy: 0.9819\n",
      "Epoch 2/3\n"
     ]
    },
    {
     "name": "stderr",
     "output_type": "stream",
     "text": [
      "2024-07-17 19:22:00.597178: I tensorflow/core/framework/local_rendezvous.cc:404] Local rendezvous is aborting with status: OUT_OF_RANGE: End of sequence\n"
     ]
    },
    {
     "name": "stdout",
     "output_type": "stream",
     "text": [
      "1358/1358 [==============================] - 2021s 1s/step - loss: 0.0686 - val_loss: 0.0370 - accuracy: 0.9930\n",
      "Epoch 3/3\n"
     ]
    },
    {
     "name": "stderr",
     "output_type": "stream",
     "text": [
      "2024-07-17 19:55:41.464772: I tensorflow/core/framework/local_rendezvous.cc:404] Local rendezvous is aborting with status: OUT_OF_RANGE: End of sequence\n"
     ]
    },
    {
     "name": "stdout",
     "output_type": "stream",
     "text": [
      "1358/1358 [==============================] - 2026s 1s/step - loss: 0.0358 - val_loss: 0.0545 - accuracy: 0.9867\n"
     ]
    }
   ],
   "source": [
    "with tf.device('/GPU:0'):\n",
    "    history = model.fit(\n",
    "        train_dataset,\n",
    "        validation_data=eval_dataset,\n",
    "        epochs=num_epochs,\n",
    "        callbacks=callback\n",
    "    )"
   ]
  },
  {
   "cell_type": "code",
   "execution_count": 119,
   "id": "5d2fd85a-96f0-4da8-a850-ebdf2f57be02",
   "metadata": {},
   "outputs": [],
   "source": [
    "image_processor = ViTImageProcessor.from_pretrained('google/vit-base-patch16-224-in21k')"
   ]
  },
  {
   "cell_type": "code",
   "execution_count": 120,
   "id": "7dee60e6-15b9-4dd4-8641-ad0a3a365f44",
   "metadata": {},
   "outputs": [
    {
     "data": {
      "text/plain": [
       "['final_model/preprocessor_config.json']"
      ]
     },
     "execution_count": 120,
     "metadata": {},
     "output_type": "execute_result"
    }
   ],
   "source": [
    "model.save_pretrained(\"final_model\")\n",
    "image_processor.save_pretrained(\"final_model\")"
   ]
  },
  {
   "cell_type": "code",
   "execution_count": 3,
   "id": "cc98e437-5157-4c33-b94a-3b329ed83d42",
   "metadata": {},
   "outputs": [
    {
     "name": "stderr",
     "output_type": "stream",
     "text": [
      "WARNING: All log messages before absl::InitializeLog() is called are written to STDERR\n",
      "I0000 00:00:1721342071.029153    4898 cuda_executor.cc:1015] successful NUMA node read from SysFS had negative value (-1), but there must be at least one NUMA node, so returning NUMA node zero. See more at https://github.com/torvalds/linux/blob/v6.0/Documentation/ABI/testing/sysfs-bus-pci#L344-L355\n",
      "I0000 00:00:1721342071.056895    4898 cuda_executor.cc:1015] successful NUMA node read from SysFS had negative value (-1), but there must be at least one NUMA node, so returning NUMA node zero. See more at https://github.com/torvalds/linux/blob/v6.0/Documentation/ABI/testing/sysfs-bus-pci#L344-L355\n",
      "I0000 00:00:1721342071.057277    4898 cuda_executor.cc:1015] successful NUMA node read from SysFS had negative value (-1), but there must be at least one NUMA node, so returning NUMA node zero. See more at https://github.com/torvalds/linux/blob/v6.0/Documentation/ABI/testing/sysfs-bus-pci#L344-L355\n",
      "I0000 00:00:1721342071.059608    4898 cuda_executor.cc:1015] successful NUMA node read from SysFS had negative value (-1), but there must be at least one NUMA node, so returning NUMA node zero. See more at https://github.com/torvalds/linux/blob/v6.0/Documentation/ABI/testing/sysfs-bus-pci#L344-L355\n",
      "I0000 00:00:1721342071.060116    4898 cuda_executor.cc:1015] successful NUMA node read from SysFS had negative value (-1), but there must be at least one NUMA node, so returning NUMA node zero. See more at https://github.com/torvalds/linux/blob/v6.0/Documentation/ABI/testing/sysfs-bus-pci#L344-L355\n",
      "I0000 00:00:1721342071.060578    4898 cuda_executor.cc:1015] successful NUMA node read from SysFS had negative value (-1), but there must be at least one NUMA node, so returning NUMA node zero. See more at https://github.com/torvalds/linux/blob/v6.0/Documentation/ABI/testing/sysfs-bus-pci#L344-L355\n",
      "I0000 00:00:1721342071.127334    4898 cuda_executor.cc:1015] successful NUMA node read from SysFS had negative value (-1), but there must be at least one NUMA node, so returning NUMA node zero. See more at https://github.com/torvalds/linux/blob/v6.0/Documentation/ABI/testing/sysfs-bus-pci#L344-L355\n",
      "I0000 00:00:1721342071.127550    4898 cuda_executor.cc:1015] successful NUMA node read from SysFS had negative value (-1), but there must be at least one NUMA node, so returning NUMA node zero. See more at https://github.com/torvalds/linux/blob/v6.0/Documentation/ABI/testing/sysfs-bus-pci#L344-L355\n",
      "I0000 00:00:1721342071.127717    4898 cuda_executor.cc:1015] successful NUMA node read from SysFS had negative value (-1), but there must be at least one NUMA node, so returning NUMA node zero. See more at https://github.com/torvalds/linux/blob/v6.0/Documentation/ABI/testing/sysfs-bus-pci#L344-L355\n",
      "2024-07-18 19:34:31.127845: I tensorflow/core/common_runtime/gpu/gpu_device.cc:2021] Created device /job:localhost/replica:0/task:0/device:GPU:0 with 1162 MB memory:  -> device: 0, name: NVIDIA GeForce RTX 3060, pci bus id: 0000:01:00.0, compute capability: 8.6\n",
      "All model checkpoint layers were used when initializing TFViTForImageClassification.\n",
      "\n",
      "All the layers of TFViTForImageClassification were initialized from the model checkpoint at final_model.\n",
      "If your task is similar to the task the model of the checkpoint was trained on, you can already use TFViTForImageClassification for predictions without further training.\n"
     ]
    }
   ],
   "source": [
    "classifier = pipeline(\"image-classification\", model='final_model')"
   ]
  },
  {
   "cell_type": "code",
   "execution_count": 6,
   "id": "7219f2a0-7370-450c-bec5-b20699fc89ba",
   "metadata": {},
   "outputs": [
    {
     "data": {
      "text/plain": [
       "{'label': 'Raspberry___healthy', 'score': 0.9719454050064087}"
      ]
     },
     "execution_count": 6,
     "metadata": {},
     "output_type": "execute_result"
    }
   ],
   "source": [
    "classifier('images_teste/image0.jpg')[0]"
   ]
  },
  {
   "cell_type": "code",
   "execution_count": 125,
   "id": "a14153fb-e9ad-4d1e-9297-cf5a79ab1d24",
   "metadata": {},
   "outputs": [],
   "source": [
    "processor_image = AutoImageProcessor.from_pretrained('final_model/preprocessor_config.json')"
   ]
  },
  {
   "cell_type": "code",
   "execution_count": 147,
   "id": "20c35429-2ff4-48dd-a529-ed4604549d4d",
   "metadata": {},
   "outputs": [],
   "source": [
    "inputs = processor_image(Image.open('images_teste/image1.jpg'), return_tensors='tf')"
   ]
  },
  {
   "cell_type": "code",
   "execution_count": 132,
   "id": "6ba34a37-0194-4ac5-b69a-a616da04f1cf",
   "metadata": {},
   "outputs": [
    {
     "name": "stderr",
     "output_type": "stream",
     "text": [
      "All model checkpoint layers were used when initializing TFViTForImageClassification.\n",
      "\n",
      "All the layers of TFViTForImageClassification were initialized from the model checkpoint at final_model.\n",
      "If your task is similar to the task the model of the checkpoint was trained on, you can already use TFViTForImageClassification for predictions without further training.\n"
     ]
    }
   ],
   "source": [
    "modelo = TFViTForImageClassification.from_pretrained(\"final_model\")"
   ]
  },
  {
   "cell_type": "code",
   "execution_count": 148,
   "id": "44056c07-cd30-443a-a8a3-8059f25ce82c",
   "metadata": {},
   "outputs": [],
   "source": [
    "logits = modelo(**inputs).logits"
   ]
  },
  {
   "cell_type": "code",
   "execution_count": 149,
   "id": "fd6605fc-258e-4ba9-bdd3-9d0e8a6f64d2",
   "metadata": {},
   "outputs": [
    {
     "data": {
      "text/plain": [
       "'Blueberry___healthy'"
      ]
     },
     "execution_count": 149,
     "metadata": {},
     "output_type": "execute_result"
    }
   ],
   "source": [
    "predicted_class_id = int(tf.math.argmax(logits, axis=-1)[0])\n",
    "model.config.id2label[predicted_class_id]"
   ]
  },
  {
   "cell_type": "code",
   "execution_count": null,
   "id": "a0ed1778-f7ba-42cd-bec5-e98d5cd61816",
   "metadata": {},
   "outputs": [],
   "source": []
  }
 ],
 "metadata": {
  "kernelspec": {
   "display_name": "Python 3 (ipykernel)",
   "language": "python",
   "name": "python3"
  },
  "language_info": {
   "codemirror_mode": {
    "name": "ipython",
    "version": 3
   },
   "file_extension": ".py",
   "mimetype": "text/x-python",
   "name": "python",
   "nbconvert_exporter": "python",
   "pygments_lexer": "ipython3",
   "version": "3.11.9"
  }
 },
 "nbformat": 4,
 "nbformat_minor": 5
}
